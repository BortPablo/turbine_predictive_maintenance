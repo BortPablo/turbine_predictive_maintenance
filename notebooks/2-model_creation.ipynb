{
 "cells": [
  {
   "cell_type": "code",
   "execution_count": 1,
   "metadata": {},
   "outputs": [],
   "source": [
    "import os\n",
    "\n",
    "import json\n",
    "import pandas as pd\n",
    "import numpy as np\n",
    "import matplotlib.pyplot as plt\n",
    "\n",
    "from sklearn.model_selection import train_test_split\n",
    "from sklearn.metrics import mean_squared_error, mean_absolute_error, r2_score\n",
    "from sklearn.preprocessing import StandardScaler\n",
    "\n",
    "from dotenv import load_dotenv\n",
    "load_dotenv()\n",
    "\n",
    "import mlflow\n",
    "\n",
    "mlflow.set_tracking_uri(os.getenv('MLFLOW_URL'))\n",
    "\n",
    "import warnings\n",
    "warnings.filterwarnings('ignore')\n",
    "\n",
    "from xgboost import XGBRegressor"
   ]
  },
  {
   "cell_type": "code",
   "execution_count": 2,
   "metadata": {},
   "outputs": [],
   "source": [
    "targets = {\n",
    "    'GENERATOR': ['Gen_Phase1_Temp_Avg','Gen_Phase2_Temp_Avg','Gen_Phase3_Temp_Avg','Gen_SlipRing_Temp_Avg',],\n",
    "    'HYDRAULIC_GROUP': ['Hyd_Oil_Temp_Avg'],\n",
    "    'GENERATOR_BEARING': ['Gen_Bear_Temp_Avg','Gen_Bear2_Temp_Avg'],\n",
    "    'TRANSFORMER': ['HVTrafo_Phase1_Temp_Avg','HVTrafo_Phase2_Temp_Avg','HVTrafo_Phase3_Temp_Avg'],\n",
    "    'GEARBOX': ['Gear_Oil_Temp_Avg', 'Gear_Bear_Temp_Avg']\n",
    "    }\n",
    "\n",
    "features = ['Gen_RPM_Avg', 'Nac_Temp_Avg','Rtr_RPM_Avg', 'Amb_WindSpeed_Avg', 'Amb_WindDir_Abs_Avg', 'Amb_Temp_Avg', 'Prod_LatestAvg_TotActPwr', 'Prod_LatestAvg_TotReactPwr',\n",
    "       'Spin_Temp_Avg', 'Blds_PitchAngle_Avg', 'Grd_Busbar_Temp_Avg','Nac_Direction_Avg', 'theoretical_performance_ratio']"
   ]
  },
  {
   "cell_type": "code",
   "execution_count": 24,
   "metadata": {},
   "outputs": [],
   "source": [
    "def load_failures() -> pd.DataFrame:\n",
    "    \"\"\"Load the failures from the wind farm dataset.\"\"\"\n",
    "    df = pd.read_csv('../data/raw/htw-failures-2016.csv', sep=';')\n",
    "    aux = pd.read_csv('../data/raw/htw-failures-2017.csv', sep=';')\n",
    "\n",
    "    df = pd.concat([df, aux], axis=0).reset_index(drop=True)\n",
    "    df['Timestamp'] = pd.to_datetime(df['Timestamp'])\n",
    "    df = df.set_index('Timestamp').sort_index()\n",
    "    df = df[df.Turbine_ID != 'T09']\n",
    "    df['Turbine_ID'] = df['Turbine_ID'].apply(lambda x: int(x[1:]))\n",
    "    return df\n",
    "\n",
    "def trb_per_failures() -> dict:\n",
    "    \"\"\"Return a dictionary with the turbine ID per component failure\"\"\"\n",
    "    failures = load_failures()\n",
    "    trb_per_comp = {}\n",
    "    for comp in failures.Component.unique():\n",
    "        trb_per_comp[comp] = failures[failures.Component == comp].Turbine_ID.unique().tolist()\n",
    "    return trb_per_comp\n",
    "\n",
    "def create_time_columns(df) -> pd.DataFrame:\n",
    "    df['month'] = df.index.month\n",
    "    df['day'] = df.index.day\n",
    "    df['hour'] = df.index.hour\n",
    "    df['dayofweek'] = df.index.dayofweek\n",
    "    return df"
   ]
  },
  {
   "cell_type": "code",
   "execution_count": 26,
   "metadata": {},
   "outputs": [
    {
     "name": "stderr",
     "output_type": "stream",
     "text": [
      "2023/08/07 09:51:45 WARNING mlflow.sklearn: Model was missing function: predict. Not logging python_function flavor!\n"
     ]
    }
   ],
   "source": [
    "for id in [1, 6, 7, 11]:\n",
    "    for comp in targets.keys():\n",
    "        if id not in trb_per_failures()[comp]:\n",
    "            continue\n",
    "        for col in targets[comp]:\n",
    "            MODULE_NAME = os.getenv('MODULE_NAME')\n",
    "            # Start mlflow run\n",
    "            with mlflow.start_run(run_name=f'{MODULE_NAME}_trb{id}_{col}') as run:\n",
    "                # Set tags\n",
    "                mlflow.set_tags({\n",
    "                    'MODULE': MODULE_NAME,\n",
    "                    'trb_num': id,\n",
    "                    'col': col,\n",
    "                    'model': 'XGBRegressor'\n",
    "                })\n",
    "\n",
    "                # Load train/test datasets\n",
    "                train = pd.read_parquet(f'../data/processed/{id}/train.parquet')\n",
    "\n",
    "                # Select the target variable\n",
    "                y_train = train.pop(col)\n",
    "\n",
    "                # Select the features to be used in the model\n",
    "                train = train[features]\n",
    "                train = create_time_columns(train)\n",
    "\n",
    "                # Split the train dataset into train and validation\n",
    "                X_train, X_val, y_train, y_val = train_test_split(train, y_train, test_size=0.2, random_state=42)\n",
    "\n",
    "                # Scale the features\n",
    "                scaler = StandardScaler()\n",
    "                X_train_scaled = scaler.fit_transform(X_train)\n",
    "                X_val_scaled = scaler.transform(X_val)\n",
    "\n",
    "                # Select the parameters for XGBRegressor model\n",
    "                params = {\n",
    "                    'n_estimators': 1000,\n",
    "                    'max_depth': 6,\n",
    "                    'min_child_weight': 1,\n",
    "                    'gamma': 0,\n",
    "                    'learning_rate': 0.01,\n",
    "                    'objective': 'reg:squarederror',\n",
    "                }\n",
    "                mlflow.log_params(params)\n",
    "\n",
    "                # Train the model\n",
    "                model = XGBRegressor(**params)\n",
    "                model.fit(X_train_scaled, y_train, eval_set=[(X_val_scaled, y_val)], early_stopping_rounds=50, verbose=False)\n",
    "\n",
    "                # Save the scaler and model into mflow\n",
    "                mlflow.sklearn.log_model(scaler, 'scaler')\n",
    "                mlflow.xgboost.log_model(model, 'model')\n",
    "\n",
    "                # Evaluate the model\n",
    "                y_pred = model.predict(X_val_scaled)\n",
    "                mlflow.log_metrics({\n",
    "                    'rmse': np.sqrt(mean_squared_error(y_val, y_pred)),\n",
    "                    'mae': mean_absolute_error(y_val, y_pred),\n",
    "                    'r2': r2_score(y_val, y_pred)\n",
    "                })\n",
    "\n",
    "                X_val = pd.DataFrame(X_val, columns=features + ['month', 'day', 'hour', 'dayofweek'])\n",
    "                X_val['y_true'] = y_val\n",
    "                X_val['y_pred'] = y_pred\n",
    "                X_val['residual'] = y_val - y_pred\n",
    "\n",
    "                threshold = {\n",
    "                    'mean': str(X_val['residual'].mean()),\n",
    "                    'median': str(X_val['residual'].median()),\n",
    "                    'std': str(X_val['residual'].std()),\n",
    "                    'mad': str((X_val['residual'] - X_val['residual'].median()).abs().median())\n",
    "                }\n",
    "                # Save json\n",
    "                with open(f'../data/interim/threshold.json', 'w') as f:\n",
    "                    json.dump(threshold, f)\n",
    "\n",
    "                mlflow.log_artifact(f'../data/interim/threshold.json')\n",
    "\n",
    "                # Get costs metric\n",
    "                break\n",
    "            break\n",
    "        break\n",
    "    break"
   ]
  },
  {
   "cell_type": "code",
   "execution_count": 42,
   "metadata": {},
   "outputs": [],
   "source": [
    "test = pd.read_parquet(f'../data/processed/{id}/test.parquet')\n",
    "\n",
    "y_test = test.pop(col)\n",
    "\n",
    "# Select the features to be used in the model\n",
    "test = test[features]\n",
    "test = create_time_columns(test)\n",
    "\n",
    "X_test_scaled = scaler.transform(test)\n",
    "\n",
    "test[col] = y_test\n",
    "test['y_pred'] = model.predict(X_test_scaled)\n",
    "test['residual'] = test[col] - test['y_pred']\n",
    "\n",
    "test = test[[col, 'y_pred', 'residual']]\n",
    "\n",
    "alarms = test.copy()\n",
    "alarms = alarms.resample('12H').mean()\n",
    "alarms['anomalous_pred'] = np.where(\n",
    "    (alarms['residual'] >=  float(threshold['median']) + 3 * float(threshold['std']))|(alarms['residual'] <=  float(threshold['median']) - 3 * float(threshold['std'])),\n",
    "    1,\n",
    "    0\n",
    ")\n",
    "failures = load_failures()\n",
    "dates = failures[(failures['Turbine_ID'] == id) & (failures['Component'] == comp)].index\n",
    "\n",
    "init = True\n",
    "for date in dates:\n",
    "    if init:\n",
    "        alarms['anomalous_real'] = np.where(\n",
    "            (alarms.index >= date - pd.Timedelta(days=90)) & (alarms.index <= date),\n",
    "            1,\n",
    "            0\n",
    "        )\n",
    "        init = False\n",
    "    else:\n",
    "        alarms['anomalous_real'] = np.where(\n",
    "            (alarms.index >= date - pd.Timedelta(days=90)) & (alarms.index <= date),\n",
    "            1,\n",
    "            alarms['anomalous_real']\n",
    "        )\n",
    "\n",
    "alarms[['anomalous_real', 'anomalous_pred']].plot(figsize=(15, 5), title=f'Anomalous Real vs Anomalous Predicted (turbine {id}, column {col})')\n",
    "for date in dates:\n",
    "    plt.axvline(x=date, color='red', linestyle='--')\n",
    "plt.show()\n",
    "\n"
   ]
  },
  {
   "cell_type": "code",
   "execution_count": 56,
   "metadata": {},
   "outputs": [
    {
     "data": {
      "image/png": "[encoded data removed]",
      "text/plain": [
       "<Figure size 1500x500 with 1 Axes>"
      ]
     },
     "metadata": {},
     "output_type": "display_data"
    }
   ],
   "source": [
    "alarms[['anomalous_real', 'anomalous_pred']].plot(figsize=(15, 5), title=f'Anomalous Real vs Anomalous Predicted (turbine {id}, column {col})')\n",
    "for date in dates:\n",
    "    plt.axvline(x=date, color='red', linestyle='--')\n"
   ]
  },
  {
   "cell_type": "code",
   "execution_count": 54,
   "metadata": {},
   "outputs": [
    {
     "data": {
      "text/plain": [
       "Timestamp('2017-06-16 00:00:00+0000', tz='UTC')"
      ]
     },
     "execution_count": 54,
     "metadata": {},
     "output_type": "execute_result"
    }
   ],
   "source": [
    "alarms[(alarms['anomalous_real']&alarms['anomalous_pred']) == 1].index[0]"
   ]
  },
  {
   "cell_type": "code",
   "execution_count": null,
   "metadata": {},
   "outputs": [],
   "source": []
  }
 ],
 "metadata": {
  "kernelspec": {
   "display_name": "venv",
   "language": "python",
   "name": "python3"
  },
  "language_info": {
   "codemirror_mode": {
    "name": "ipython",
    "version": 3
   },
   "file_extension": ".py",
   "mimetype": "text/x-python",
   "name": "python",
   "nbconvert_exporter": "python",
   "pygments_lexer": "ipython3",
   "version": "3.8.10"
  },
  "orig_nbformat": 4
 },
 "nbformat": 4,
 "nbformat_minor": 2
}
