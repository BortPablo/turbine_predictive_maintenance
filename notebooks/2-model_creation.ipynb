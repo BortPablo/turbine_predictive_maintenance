{
 "cells": [
  {
   "cell_type": "code",
   "execution_count": 1,
   "metadata": {},
   "outputs": [],
   "source": [
    "import os\n",
    "\n",
    "import pandas as pd\n",
    "import numpy as np\n",
    "import matplotlib.pyplot as plt\n",
    "\n",
    "from sklearn.model_selection import train_test_split\n",
    "\n",
    "from dotenv import load_dotenv\n",
    "load_dotenv()\n",
    "\n",
    "import mlflow\n",
    "\n",
    "mlflow.set_tracking_uri(os.getenv('MLFLOW_URL'))\n",
    "\n",
    "import warnings\n",
    "warnings.filterwarnings('ignore')\n",
    "\n",
    "from xgboost import XGBRegressor"
   ]
  },
  {
   "cell_type": "code",
   "execution_count": 4,
   "metadata": {},
   "outputs": [],
   "source": [
    "targets = {\n",
    "    'GENERATOR': ['Gen_Phase1_Temp_Avg','Gen_Phase2_Temp_Avg','Gen_Phase3_Temp_Avg','Gen_SlipRing_Temp_Avg',],\n",
    "    'HYDRAULIC_GROUP': ['Hyd_Oil_Temp_Avg'],\n",
    "    'GENERATOR_BEARING': ['Gen_Bear_Temp_Avg','Gen_Bear2_Temp_Avg'],\n",
    "    'TRANSFORMER': ['HVTrafo_Phase1_Temp_Avg','HVTrafo_Phase2_Temp_Avg','HVTrafo_Phase3_Temp_Avg'],\n",
    "    'GEARBOX': ['Gear_Oil_Temp_Avg', 'Gear_Bear_Temp_Avg']\n",
    "    }"
   ]
  },
  {
   "cell_type": "code",
   "execution_count": 12,
   "metadata": {},
   "outputs": [],
   "source": [
    "target_columns = list(np.concatenate(list(targets.values())).flat)"
   ]
  },
  {
   "cell_type": "code",
   "execution_count": 15,
   "metadata": {},
   "outputs": [],
   "source": [
    "id = 1\n",
    "train = pd.read_parquet(f'../data/processed/{id}/train.parquet')\n",
    "y_train = train.pop('Gen_Phase1_Temp_Avg')"
   ]
  },
  {
   "cell_type": "code",
   "execution_count": null,
   "metadata": {},
   "outputs": [],
   "source": [
    "for id in [1, 6, 7, 11]:\n",
    "\n",
    "    for col in target_columns:\n",
    "        # Load train/test datasets\n",
    "        train = pd.read_parquet(f'../data/processed/{id}/train.parquet')\n",
    "\n",
    "        # Select the target variable\n",
    "        y_train = train.pop(col)\n",
    "\n",
    "        # Select the features to be used in the model\n",
    "        train = train[features]\n",
    "\n",
    "        # Split the train dataset into train and validation\n",
    "        X_train, X_val, y_train, y_val = train_test_split(train, y_train, test_size=0.2, random_state=42)\n",
    "\n",
    "        # Select the parameters for XGBRegressor model\n",
    "        params = {\n",
    "            'n_estimators': 1000,\n",
    "            'max_depth': 6,\n",
    "            'learning_rate': 0.01,\n",
    "            'subsample': 0.8,\n",
    "            'colsample_bytree': 0.8,\n",
    "            'tree_method': 'gpu_hist',\n",
    "            'objective': 'reg:squarederror',\n",
    "            'random_state': 42\n",
    "        }\n",
    "\n",
    "        # Train the model\n",
    "        model = XGBRegressor(**params)\n",
    "        model.fit(X_train, y_train, early_stopping_rounds=50, verbose=0)\n",
    "\n",
    "\n",
    "# Save the model\n",
    "\n",
    "# Evaluate the model\n",
    "\n",
    "# Save the evaluation metrics\n",
    "\n"
   ]
  }
 ],
 "metadata": {
  "kernelspec": {
   "display_name": "venv",
   "language": "python",
   "name": "python3"
  },
  "language_info": {
   "codemirror_mode": {
    "name": "ipython",
    "version": 3
   },
   "file_extension": ".py",
   "mimetype": "text/x-python",
   "name": "python",
   "nbconvert_exporter": "python",
   "pygments_lexer": "ipython3",
   "version": "3.8.10"
  },
  "orig_nbformat": 4
 },
 "nbformat": 4,
 "nbformat_minor": 2
}
